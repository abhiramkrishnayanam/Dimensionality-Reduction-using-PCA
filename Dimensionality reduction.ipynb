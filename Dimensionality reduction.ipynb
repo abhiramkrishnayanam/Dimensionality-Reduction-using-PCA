{
 "cells": [
  {
   "cell_type": "markdown",
   "id": "26d26a2c-c1d5-499e-98a7-a1af656ae846",
   "metadata": {},
   "source": [
    "<h1 style=\"color: blue; text-align: center; font-size: 30px;\"><b>Dimensionality Reduction and Principal Component Analysis (PCA)</b></h1>\n",
    "\n",
    "\n",
    "**Principal Component Analysis (PCA)** is a dimensionality reduction technique used to reduce the number of features (variables) in a dataset while preserving as much variability as possible. It works by transforming the original features into a new set of uncorrelated variables called **principal components**, ordered by the amount of variance they capture.\n",
    "\n",
    "---\n",
    "\n",
    "## Steps in PCA\n",
    "\n",
    "1. **Standardize the Data**:\n",
    "   - Ensure all features have a mean of 0 and standard deviation of 1.\n",
    "\n",
    "2. **Covariance Matrix**:\n",
    "   - Compute the covariance matrix to understand relationships between features.\n",
    "\n",
    "3. **Eigenvalues and Eigenvectors**:\n",
    "   - Derive eigenvalues (variance explained) and eigenvectors (directions) from the covariance matrix.\n",
    "\n",
    "4. **Select Principal Components**:\n",
    "   - Choose the top components based on eigenvalues to retain most of the variance.\n",
    "\n",
    "5. **Transform the Data**:\n",
    "   - Project the data onto the selected principal components.\n",
    "\n",
    "---\n",
    "\n",
    "## Benefits of PCA\n",
    "\n",
    "- **Reduces computational complexity**.\n",
    "- **Removes multicollinearity** between features.\n",
    "- **Helps visualize high-dimensional data** in 2D or 3D.\n",
    "\n",
    "---\n",
    "\n",
    "# Feature Selection\n",
    "\n",
    "**Feature Selection** is the process of selecting the most relevant features (variables) from the dataset that contribute the most to the predictive power of a model. Unlike PCA, feature selection does not create new features; it simply reduces the dataset to the most important existing features.\n",
    "\n",
    "### Common Feature Selection Techniques\n",
    "\n",
    "1. **Filter Methods**:\n",
    "   - Use statistical measures like correlation, mutual information, or chi-square tests to rank and select features.\n",
    "   - Example: Removing features with low variance or high correlation.\n",
    "\n",
    "2. **Wrapper Methods**:\n",
    "   - Use iterative approaches like Recursive Feature Elimination (RFE) to select features that optimize model performance.\n",
    "   - Example: Testing subsets of features with a specific algorithm.\n",
    "\n",
    "3. **Embedded Methods**:\n",
    "   - Perform feature selection during the model training process.\n",
    "   - Example: Using regularization techniques like Lasso (L1 regularization) or Tree-based feature importance.\n",
    "\n",
    "### Benefits of Feature Selection\n",
    "\n",
    "- Reduces overfitting by eliminating irrelevant or redundant features.\n",
    "- Improves model interpretability by focusing on key features.\n",
    "- Speeds up training and inference by reducing the feature space.\n",
    "\n",
    "---\n",
    "\n",
    "## Difference Between PCA and Feature Selection\n",
    "\n",
    "| **Aspect**                | **PCA**                                                | **Feature Selection**                                      |\n",
    "|---------------------------|--------------------------------------------------------|-----------------------------------------------------------|\n",
    "| **Purpose**               | Reduces dimensionality by creating new features (principal components). | Selects the most relevant existing features.              |\n",
    "| **Feature Relationship**  | Creates uncorrelated principal components.             | Retains original features and relationships.              |\n",
    "| **Interpretability**      | Principal components are linear combinations of original features, making them less interpretable. | Original features remain intact, so they are more interpretable. |\n",
    "| **Focus**                 | Focuses on preserving variance in the data.            | Focuses on relevance of features for the target variable. |\n",
    "| **Techniques Used**       | Uses covariance matrix, eigenvalues, and eigenvectors. | Techniques include filter methods (e.g., correlation), wrapper methods (e.g., RFE), and embedded methods (e.g., Lasso). |\n",
    "| **Target Variable**       | Does not consider the target variable (unsupervised).  | Can consider the target variable (supervised).            |\n",
    "\n",
    "---\n",
    "\n",
    "## When to Use PCA vs. Feature Selection\n",
    "\n",
    "- Use **PCA** when:\n",
    "  - You have a large number of features and want to reduce dimensionality while preserving variance.\n",
    "  - Features are highly correlated, causing multicollinearity issues.\n",
    "  - Interpretability is less critical.\n",
    "\n",
    "- Use **Feature Selection** when:\n",
    "  - You want to retain specific features that are most relevant to the target variable.\n",
    "  - Interpretability of the model is important.\n",
    "  - The dataset has a mix of relevant and irrelevant features.\n",
    "\n",
    "---\n",
    "\n",
    "\n",
    "<b>Principal Component Analysis (PCA) </b> is a dimensionality reduction technique used to reduce the number of features (variables) in a dataset while preserving as much variability as possible. It works by transforming the original features into a new set of uncorrelated variables called <b>principal components</b>, ordered by the amount of variance they capture.\n",
    "\n",
    "---\n",
    "\n",
    "## Steps in PCA\n",
    "\n",
    "1. **Standardize the Data**:\n",
    "   - Ensure all features have a mean of 0 and standard deviation of 1.\n",
    "\n",
    "2. **Covariance Matrix**:\n",
    "   - Compute the covariance matrix to understand relationships between features.\n",
    "\n",
    "3. **Eigenvalues and Eigenvectors**:\n",
    "   - Derive eigenvalues (variance explained) and eigenvectors (directions) from the covariance matrix.\n",
    "\n",
    "4. **Select Principal Components**:\n",
    "   - Choose the top components based on eigenvalues to retain most of the variance.\n",
    "\n",
    "5. **Transform the Data**:\n",
    "   - Project the data onto the selected principal components.\n",
    "\n",
    "---\n",
    "\n",
    "## Benefits of PCA\n",
    "\n",
    "- **Reduces computational complexity**.\n",
    "- **Removes multicollinearity** between features.\n",
    "- **Helps visualize high-dimensional data** in 2D or 3D.\n",
    "\n",
    "---\n",
    "\n",
    "## Difference Between PCA and Feature Selection\n",
    "\n",
    "| **Aspect**                | **PCA**                                                | **Feature Selection**                                      |\n",
    "|---------------------------|--------------------------------------------------------|-----------------------------------------------------------|\n",
    "| **Purpose**               | Reduces dimensionality by creating new features (principal components). | Selects the most relevant existing features.              |\n",
    "| **Feature Relationship**  | Creates uncorrelated principal components.             | Retains original features and relationships.              |\n",
    "| **Interpretability**      | Principal components are linear combinations of original features, making them less interpretable. | Original features remain intact, so they are more interpretable. |\n",
    "| **Focus**                 | Focuses on preserving variance in the data.            | Focuses on relevance of features for the target variable. |\n",
    "| **Techniques Used**       | Uses covariance matrix, eigenvalues, and eigenvectors. | Techniques include filter methods (e.g., correlation), wrapper methods (e.g., RFE), and embedded methods (e.g., Lasso). |\n",
    "| **Target Variable**       | Does not consider the target variable (unsupervised).  | Can consider the target variable (supervised).            |\n",
    "\n",
    "---\n",
    "\n",
    "## When to Use PCA vs. Feature Selection\n",
    "\n",
    "- Use **PCA** when:\n",
    "  - You have a large number of features and want to reduce dimensionality while preserving variance.\n",
    "  - Features are highly correlated, causing multicollinearity issues.\n",
    "  - Interpretability is less critical.\n",
    "\n",
    "- Use **Feature Selection** when:\n",
    "  - You want to retain specific features that are most relevant to the target variable.\n",
    "  - Interpretability of the model is important.\n",
    "  - The dataset has a mix of relevant and irrelevant features.\n",
    "\n",
    "---\n",
    "\n"
   ]
  },
  {
   "cell_type": "markdown",
   "id": "9f38dbf9-43ed-49d8-af15-65e9d292362f",
   "metadata": {},
   "source": [
    "<font color=green size=4>We'll use the famous Iris dataset, which has 4 features: sepal length, sepal width, petal length, and petal width."
   ]
  },
  {
   "cell_type": "code",
   "execution_count": 15,
   "id": "6387d002-aaca-4315-9b33-e62efc63896a",
   "metadata": {},
   "outputs": [],
   "source": [
    "# Import necessary libraries\n",
    "import numpy as np\n",
    "import pandas as pd\n",
    "from sklearn.decomposition import PCA\n",
    "from sklearn.preprocessing import StandardScaler\n",
    "from sklearn.datasets import load_iris\n",
    "import matplotlib.pyplot as plt\n",
    "import warnings\n",
    "warnings.simplefilter(\"ignore\")"
   ]
  },
  {
   "cell_type": "code",
   "execution_count": 21,
   "id": "555e0a06-47df-48de-8246-a0f40051bdff",
   "metadata": {},
   "outputs": [],
   "source": [
    "iris=load_iris()\n",
    "data=iris.data\n",
    "target=iris.target"
   ]
  },
  {
   "cell_type": "code",
   "execution_count": 23,
   "id": "257c48ed-2c60-47ef-8099-bb77d9723099",
   "metadata": {},
   "outputs": [],
   "source": [
    "target_names = iris.target_names\n",
    "columns = iris.feature_names"
   ]
  },
  {
   "cell_type": "code",
   "execution_count": 37,
   "id": "341feab2-a544-4bd8-96dc-1ad47ac1e64b",
   "metadata": {},
   "outputs": [
    {
     "data": {
      "text/html": [
       "<div>\n",
       "<style scoped>\n",
       "    .dataframe tbody tr th:only-of-type {\n",
       "        vertical-align: middle;\n",
       "    }\n",
       "\n",
       "    .dataframe tbody tr th {\n",
       "        vertical-align: top;\n",
       "    }\n",
       "\n",
       "    .dataframe thead th {\n",
       "        text-align: right;\n",
       "    }\n",
       "</style>\n",
       "<table border=\"1\" class=\"dataframe\">\n",
       "  <thead>\n",
       "    <tr style=\"text-align: right;\">\n",
       "      <th></th>\n",
       "      <th>sepal length (cm)</th>\n",
       "      <th>sepal width (cm)</th>\n",
       "      <th>petal length (cm)</th>\n",
       "      <th>petal width (cm)</th>\n",
       "    </tr>\n",
       "  </thead>\n",
       "  <tbody>\n",
       "    <tr>\n",
       "      <th>0</th>\n",
       "      <td>5.1</td>\n",
       "      <td>3.5</td>\n",
       "      <td>1.4</td>\n",
       "      <td>0.2</td>\n",
       "    </tr>\n",
       "    <tr>\n",
       "      <th>1</th>\n",
       "      <td>4.9</td>\n",
       "      <td>3.0</td>\n",
       "      <td>1.4</td>\n",
       "      <td>0.2</td>\n",
       "    </tr>\n",
       "    <tr>\n",
       "      <th>2</th>\n",
       "      <td>4.7</td>\n",
       "      <td>3.2</td>\n",
       "      <td>1.3</td>\n",
       "      <td>0.2</td>\n",
       "    </tr>\n",
       "    <tr>\n",
       "      <th>3</th>\n",
       "      <td>4.6</td>\n",
       "      <td>3.1</td>\n",
       "      <td>1.5</td>\n",
       "      <td>0.2</td>\n",
       "    </tr>\n",
       "    <tr>\n",
       "      <th>4</th>\n",
       "      <td>5.0</td>\n",
       "      <td>3.6</td>\n",
       "      <td>1.4</td>\n",
       "      <td>0.2</td>\n",
       "    </tr>\n",
       "  </tbody>\n",
       "</table>\n",
       "</div>"
      ],
      "text/plain": [
       "   sepal length (cm)  sepal width (cm)  petal length (cm)  petal width (cm)\n",
       "0                5.1               3.5                1.4               0.2\n",
       "1                4.9               3.0                1.4               0.2\n",
       "2                4.7               3.2                1.3               0.2\n",
       "3                4.6               3.1                1.5               0.2\n",
       "4                5.0               3.6                1.4               0.2"
      ]
     },
     "execution_count": 37,
     "metadata": {},
     "output_type": "execute_result"
    }
   ],
   "source": [
    "#creating dataframe\n",
    "df = pd.DataFrame(data, columns=columns)\n",
    "df.head()"
   ]
  },
  {
   "cell_type": "code",
   "execution_count": 27,
   "id": "204f96b5-2a72-411e-a742-19b129397556",
   "metadata": {},
   "outputs": [],
   "source": [
    "#Step 1 Standardising the data\n",
    "scaler=StandardScaler()\n",
    "data_scaled=scaler.fit_transform(data)\n"
   ]
  },
  {
   "cell_type": "code",
   "execution_count": 29,
   "id": "c922dbc8-3c54-409c-a5d1-67e93bfad75e",
   "metadata": {},
   "outputs": [],
   "source": [
    "#Step 2 Applying PCA\n",
    "pca=PCA(n_components=2)# Reduce to 2 dimensions\n",
    "principal_components=pca.fit_transform(data_scaled)"
   ]
  },
  {
   "cell_type": "code",
   "execution_count": 35,
   "id": "a2699cd4-d348-4556-aeaf-9f4a0cf64dd6",
   "metadata": {},
   "outputs": [
    {
     "data": {
      "text/html": [
       "<div>\n",
       "<style scoped>\n",
       "    .dataframe tbody tr th:only-of-type {\n",
       "        vertical-align: middle;\n",
       "    }\n",
       "\n",
       "    .dataframe tbody tr th {\n",
       "        vertical-align: top;\n",
       "    }\n",
       "\n",
       "    .dataframe thead th {\n",
       "        text-align: right;\n",
       "    }\n",
       "</style>\n",
       "<table border=\"1\" class=\"dataframe\">\n",
       "  <thead>\n",
       "    <tr style=\"text-align: right;\">\n",
       "      <th></th>\n",
       "      <th>PC1</th>\n",
       "      <th>PC2</th>\n",
       "      <th>Target</th>\n",
       "    </tr>\n",
       "  </thead>\n",
       "  <tbody>\n",
       "    <tr>\n",
       "      <th>0</th>\n",
       "      <td>-2.264703</td>\n",
       "      <td>0.480027</td>\n",
       "      <td>0</td>\n",
       "    </tr>\n",
       "    <tr>\n",
       "      <th>1</th>\n",
       "      <td>-2.080961</td>\n",
       "      <td>-0.674134</td>\n",
       "      <td>0</td>\n",
       "    </tr>\n",
       "    <tr>\n",
       "      <th>2</th>\n",
       "      <td>-2.364229</td>\n",
       "      <td>-0.341908</td>\n",
       "      <td>0</td>\n",
       "    </tr>\n",
       "  </tbody>\n",
       "</table>\n",
       "</div>"
      ],
      "text/plain": [
       "        PC1       PC2  Target\n",
       "0 -2.264703  0.480027       0\n",
       "1 -2.080961 -0.674134       0\n",
       "2 -2.364229 -0.341908       0"
      ]
     },
     "execution_count": 35,
     "metadata": {},
     "output_type": "execute_result"
    }
   ],
   "source": [
    "#Step 3 Create Dataframe for principal components\n",
    "pca_df=pd.DataFrame(data=principal_components,columns=['PC1', 'PC2'])\n",
    "pca_df['Target']=target\n",
    "pca_df.head(3)"
   ]
  },
  {
   "cell_type": "code",
   "execution_count": 41,
   "id": "a254dc10-9b43-4285-80ca-b77eedc63c10",
   "metadata": {},
   "outputs": [
    {
     "data": {
      "image/png": "[encoded data removed]",
      "text/plain": [
       "<Figure size 800x600 with 1 Axes>"
      ]
     },
     "metadata": {},
     "output_type": "display_data"
    }
   ],
   "source": [
    "#Visualisation \n",
    "plt.figure(figsize=(8,6))\n",
    "for i, target_name in enumerate(target_names):\n",
    "    plt.scatter(pca_df[pca_df['Target'] == i]['PC1'],\n",
    "                pca_df[pca_df['Target'] == i]['PC2'],\n",
    "                label=target_name)\n",
    "\n",
    "plt.title('PCA on Iris Dataset')\n",
    "plt.xlabel('Principal Component 1')\n",
    "plt.ylabel('Principal Component 2')\n",
    "plt.legend()\n",
    "plt.grid()\n",
    "plt.show()\n"
   ]
  },
  {
   "cell_type": "code",
   "execution_count": 43,
   "id": "326aa675-1239-422e-bd6f-c4ec81137540",
   "metadata": {},
   "outputs": [
    {
     "name": "stdout",
     "output_type": "stream",
     "text": [
      "Explained variance ratio: [0.72962445 0.22850762]\n"
     ]
    }
   ],
   "source": [
    "# Step 5: Explained variance\n",
    "print(\"Explained variance ratio:\", pca.explained_variance_ratio_)"
   ]
  },
  {
   "cell_type": "markdown",
   "id": "d46a5bbd-641d-4ed5-88ff-5c1788c58cb5",
   "metadata": {},
   "source": [
    "#### Plot a cumulative explained variance ratio to decide the optimal number of components:\n",
    "\n"
   ]
  },
  {
   "cell_type": "code",
   "execution_count": 46,
   "id": "2e9e4f57-b935-44d9-b8f5-508ed9909aad",
   "metadata": {},
   "outputs": [
    {
     "data": {
      "image/png": "[encoded data removed]",
      "text/plain": [
       "<Figure size 640x480 with 1 Axes>"
      ]
     },
     "metadata": {},
     "output_type": "display_data"
    }
   ],
   "source": [
    "plt.plot(np.cumsum(pca.explained_variance_ratio_))\n",
    "plt.xlabel('Number of Components')\n",
    "plt.ylabel('Cumulative Explained Variance')\n",
    "plt.grid()\n",
    "plt.show()\n"
   ]
  },
  {
   "cell_type": "code",
   "execution_count": null,
   "id": "f67277e2-5e10-4c89-940f-cd5820544d3d",
   "metadata": {},
   "outputs": [],
   "source": []
  }
 ],
 "metadata": {
  "kernelspec": {
   "display_name": "Python [conda env:base] *",
   "language": "python",
   "name": "conda-base-py"
  },
  "language_info": {
   "codemirror_mode": {
    "name": "ipython",
    "version": 3
   },
   "file_extension": ".py",
   "mimetype": "text/x-python",
   "name": "python",
   "nbconvert_exporter": "python",
   "pygments_lexer": "ipython3",
   "version": "3.12.7"
  }
 },
 "nbformat": 4,
 "nbformat_minor": 5
}
